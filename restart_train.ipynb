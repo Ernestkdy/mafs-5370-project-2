{
 "cells": [
  {
   "cell_type": "code",
   "execution_count": null,
   "metadata": {},
   "outputs": [],
   "source": [
    "# -*- coding: utf-8 -*-\n",
    "\"\"\"\n",
    "DQN Gomoku Script with MPS Acceleration\n",
    "\n",
    "Includes:\n",
    "1. SuperTicTacToeEnv environment definition\n",
    "2. DQN network definition\n",
    "3. train_dqn function: trains model on MPS/CPU, records avg loss per episode and periodic win rate vs random\n",
    "4. check_convergence function: checks convergence\n",
    "5. play_human_vs_model: interactive play using action indices\n",
    "6. play_against_random: evaluation vs random player\n",
    "7. Main entry: select device (MPS/CPU), train, convergence check, plot loss & win rate, random eval, optional human play\n",
    "\"\"\"\n",
    "\n",
    "import numpy as np\n",
    "import gym\n",
    "from gym import spaces\n",
    "import random\n",
    "import torch\n",
    "import torch.nn as nn\n",
    "import torch.nn.functional as F\n",
    "from collections import deque\n",
    "import matplotlib.pyplot as plt\n",
    "from tqdm import tqdm\n",
    "import multiprocessing as mp\n",
    "\n",
    "# ---------- Device Setup for MPS (Mac) ----------\n",
    "device = \"cpu\"\n",
    "\n",
    "# ---------- Environment Definition ----------\n",
    "class SuperTicTacToeEnv(gym.Env):\n",
    "    def __init__(self):\n",
    "        super().__init__()\n",
    "        self.board_shape = (12, 12)\n",
    "        self.action_space = spaces.Discrete(80)\n",
    "        self.observation_space = spaces.Box(low=0, high=2, shape=self.board_shape, dtype=np.int32)\n",
    "        self.centers = [(0, 4), (4, 0), (4, 4), (4, 8), (8, 4)]\n",
    "\n",
    "    def reset(self):\n",
    "        self.board = np.full(self.board_shape, -1, dtype=np.int32)\n",
    "        for (sr, sc) in self.centers:\n",
    "            self.board[sr:sr+4, sc:sc+4] = 0\n",
    "        self.current_player = 1\n",
    "        return self.board.copy()\n",
    "\n",
    "    def step(self, action):\n",
    "        region = action // 16\n",
    "        offset = action % 16\n",
    "        r = self.centers[region][0] + offset // 4\n",
    "        c = self.centers[region][1] + offset % 4\n",
    "        # Place piece with 50% probability, else try neighbor\n",
    "        if np.random.rand() < 0.5:\n",
    "            self.board[r, c] = 1\n",
    "        else:\n",
    "            neighbors = [(r+dr, c+dc) for dr in [-1,0,1] for dc in [-1,0,1] if (dr,dc)!=(0,0)]\n",
    "            random.shuffle(neighbors)\n",
    "            placed = False\n",
    "            for nr, nc in neighbors:\n",
    "                if 0 <= nr < 12 and 0 <= nc < 12 and self.board[nr, nc] == 0:\n",
    "                    self.board[nr, nc] = 1\n",
    "                    placed = True\n",
    "                    break\n",
    "            if not placed:\n",
    "                self.current_player = 3 - self.current_player\n",
    "                return self.board.copy(), -0.01, False, {}\n",
    "        # Check win\n",
    "        if self.check_winner():\n",
    "            return self.board.copy(), 1, True, {}\n",
    "        # Switch player and flip perspective\n",
    "        self.current_player = 3 - self.current_player\n",
    "        self.board = np.where(self.board == 2, 3, self.board)\n",
    "        self.board = np.where(self.board == 1, 2, self.board)\n",
    "        self.board = np.where(self.board == 3, 1, self.board)\n",
    "        return self.board.copy(), 0, False, {}\n",
    "\n",
    "    def check_winner(self):\n",
    "        for i in range(12):\n",
    "            for j in range(12):\n",
    "                if j+3 < 12 and all(self.board[i, j+k] == 1 for k in range(4)): return True\n",
    "                if i+3 < 12 and all(self.board[i+k, j] == 1 for k in range(4)): return True\n",
    "                if i+4 < 12 and j+4 < 12 and all(self.board[i+k, j+k] == 1 for k in range(5)): return True\n",
    "                if i-4 >= 0 and j+4 < 12 and all(self.board[i-k, j+k] == 1 for k in range(5)): return True\n",
    "        return False\n",
    "\n",
    "    def print_action_board(self):\n",
    "        grid = [['  ']*12 for _ in range(12)]\n",
    "        for a in range(80):\n",
    "            region = a//16; offset = a%16\n",
    "            r = self.centers[region][0] + offset//4\n",
    "            c = self.centers[region][1] + offset%4\n",
    "            grid[r][c] = f\"{a:2d}\"\n",
    "        for row in grid: print(' '.join(row))\n",
    "\n",
    "    def plot_board(self):\n",
    "        fig, ax = plt.subplots(figsize=(6, 6))\n",
    "        ax.set_xticks([]); ax.set_yticks([])\n",
    "        for sr, sc in self.centers:\n",
    "            for i in range(5): ax.plot([sc-0.5, sc+3.5], [sr+i-0.5, sr+i-0.5], color='black')\n",
    "            for j in range(5): ax.plot([sc+j-0.5, sc+j-0.5], [sr-0.5, sr+3.5], color='black')\n",
    "        for sr, sc in self.centers:\n",
    "            for dx in range(4):\n",
    "                for dy in range(4):\n",
    "                    r, c = sr+dx, sc+dy\n",
    "                    v = self.board[r, c]\n",
    "                    if v == 1: ax.text(c, r, 'X', ha='center', va='center', fontsize=14)\n",
    "                    elif v == 2: ax.text(c, r, 'O', ha='center', va='center', fontsize=14)\n",
    "        all_x = [sc+i for sc, _ in self.centers for i in range(4)]\n",
    "        all_y = [sr+i for sr, _ in self.centers for i in range(4)]\n",
    "        ax.set_xlim(min(all_x)-0.5, max(all_x)+0.5)\n",
    "        ax.set_ylim(max(all_y)+0.5, min(all_y)-0.5)\n",
    "        plt.show()\n",
    "\n",
    "# ---------- DQN Model ----------\n",
    "class DQN(nn.Module):\n",
    "    def __init__(self, input_shape, n_actions):\n",
    "        super().__init__()\n",
    "        self.fc1 = nn.Linear(input_shape[0]*input_shape[1], 256)\n",
    "        self.fc2 = nn.Linear(256, 128)\n",
    "        self.out = nn.Linear(128, n_actions)\n",
    "    def forward(self, x):\n",
    "        x = x.to(device)\n",
    "        x = x.view(x.size(0), -1)\n",
    "        x = F.relu(self.fc1(x)); x = F.relu(self.fc2(x))\n",
    "        return self.out(x)\n",
    "\n",
    "# ---------- Training with MPS Evaluation ----------\n",
    "def train_dqn(env, model, target_model, episodes=500, lr=1e-3, gamma=0.99,\n",
    "              batch_size=64, eval_interval=100, eval_games=1000):\n",
    "    model.to(device); target_model.to(device)\n",
    "    optimizer = torch.optim.Adam(model.parameters(), lr=lr)\n",
    "    replay = deque(maxlen=1000)\n",
    "    epsilon = 1.0\n",
    "    loss_per_episode = []\n",
    "    eval_eps = []\n",
    "    win_rates = []\n",
    "    for ep in tqdm(range(1, episodes+1), desc='Training'):\n",
    "        state = env.reset()\n",
    "        state = torch.tensor(state, dtype=torch.float32).unsqueeze(0).to(device)\n",
    "        done = False\n",
    "        ep_losses = []\n",
    "        while not done:\n",
    "            if random.random() < epsilon:\n",
    "                a = env.action_space.sample()\n",
    "            else:\n",
    "                with torch.no_grad(): a = int(model(state).argmax().item())\n",
    "            ns, r, done, _ = env.step(a)\n",
    "            ns_tensor = torch.tensor(ns, dtype=torch.float32).unsqueeze(0).to(device)\n",
    "            replay.append((state, a, r, ns_tensor, done))\n",
    "            state = ns_tensor\n",
    "            if len(replay) >= batch_size:\n",
    "                batch = random.sample(replay, batch_size)\n",
    "                s_batch, a_batch, r_batch, ns_batch, d_batch = zip(*batch)\n",
    "                s = torch.cat(s_batch, dim=0)\n",
    "                a_t = torch.tensor(a_batch, device=device)\n",
    "                r_t = torch.tensor(r_batch, device=device)\n",
    "                ns_t = torch.cat(ns_batch, dim=0)\n",
    "                d_t = torch.tensor(d_batch, device=device)\n",
    "                q_vals = model(s).gather(1, a_t.unsqueeze(1)).squeeze()\n",
    "                next_q = target_model(ns_t).max(1)[0]\n",
    "                targets = r_t + gamma * next_q * (~d_t)\n",
    "                loss = F.mse_loss(q_vals, targets.detach())\n",
    "                optimizer.zero_grad(); loss.backward(); optimizer.step()\n",
    "                ep_losses.append(loss.item())\n",
    "        loss_per_episode.append(np.mean(ep_losses) if ep_losses else 0)\n",
    "        if ep % 10 == 0: target_model.load_state_dict(model.state_dict())\n",
    "        epsilon = max(0.01, epsilon * 0.995)\n",
    "        if ep % eval_interval == 0:\n",
    "            res = play_against_random(env, model, num_games=eval_games)\n",
    "            eval_eps.append(ep); win_rates.append(res['dqn']/eval_games)\n",
    "    return loss_per_episode, eval_eps, win_rates\n",
    "\n",
    "# ---------- Convergence Check ----------\n",
    "def check_convergence(loss_per_episode, threshold=0.01):\n",
    "    if len(loss_per_episode) < 2: return False\n",
    "    mid = len(loss_per_episode)//2\n",
    "    prev = np.mean(loss_per_episode[:mid]); recent = np.mean(loss_per_episode[mid:])\n",
    "    rate = abs(recent-prev)/prev if prev!=0 else float('inf')\n",
    "    plt.figure(figsize=(8,4)); plt.plot(loss_per_episode); plt.xlabel('Episode'); plt.ylabel('Avg Loss'); plt.title('Convergence'); plt.show()\n",
    "    print(f\"Change rate: {rate:.2%}\")\n",
    "    return rate < threshold\n",
    "\n",
    "# ---------- Random vs DQN ----------\n",
    "def play_against_random(env, model, num_games=100):\n",
    "    res = {'dqn':0,'random':0,'draw':0}\n",
    "    for _ in range(num_games):\n",
    "        state = env.reset()\n",
    "        state = torch.tensor(state, dtype=torch.float32).unsqueeze(0).to(device)\n",
    "        done=False; cur=env.current_player; reward=0\n",
    "        while not done:\n",
    "            if cur==1:\n",
    "                with torch.no_grad(): vals=model(state)[0]\n",
    "                acts=[i for i in range(80) if env.board[i//12, i%12]==0]\n",
    "                a=max(acts, key=lambda x: vals[x].item())\n",
    "            else:\n",
    "                acts=[i for i in range(80) if env.board[i//12, i%12]==0]\n",
    "                a= random.choice(acts)\n",
    "            ns, reward, done, _ = env.step(a)\n",
    "            state = torch.tensor(ns, dtype=torch.float32).unsqueeze(0).to(device)\n",
    "            cur = env.current_player\n",
    "        if reward==1:\n",
    "            winner = 3 - cur\n",
    "            res['dqn'] += (winner==1)\n",
    "            res['random'] += (winner==2)\n",
    "        else: res['draw'] += 1\n",
    "    return res\n",
    "\n",
    "# ---------- Human vs DQN ----------\n",
    "def play_human_vs_model(model):\n",
    "    env = SuperTicTacToeEnv()\n",
    "    print(\"Action board indices:\")\n",
    "    env.print_action_board()\n",
    "    side = int(input('Choose 1 for X, 2 for O: ') or 1)\n",
    "    state = env.reset()\n",
    "    state = torch.tensor(state, dtype=torch.float32).unsqueeze(0).to(device)\n",
    "    done=False; human=side\n",
    "    while not done:\n",
    "        env.plot_board()\n",
    "        if env.current_player==human:\n",
    "            a=int(input('Enter action index (0-79): '))\n",
    "            if a<0 or a>=80: print(\"Invalid\"); continue\n",
    "            r,c=env.centers[a//16][0]+(a%16)//4, env.centers[a//16][1]+(a%16)%4\n",
    "            if env.board[r,c]!=0: print(\"Not available\"); continue\n",
    "        else:\n",
    "            with torch.no_grad(): vals=model(state)[0]\n",
    "            acts=[i for i in range(80) if env.board[i//12, i%12]==0]\n",
    "            a = max(acts, key=lambda x: vals[x].item()); print(f\"AI picks {a}\")\n",
    "        ns,_,done,_ = env.step(a)\n",
    "        state = torch.tensor(ns, dtype=torch.float32).unsqueeze(0).to(device)\n",
    "    env.plot_board()\n"
   ]
  },
  {
   "cell_type": "code",
   "execution_count": null,
   "metadata": {},
   "outputs": [],
   "source": [
    "env=SuperTicTacToeEnv()\n",
    "model=DQN(env.observation_space.shape, env.action_space.n).to(device)\n",
    "target=DQN(env.observation_space.shape, env.action_space.n).to(device)\n",
    "target.load_state_dict(model.state_dict())\n",
    "\n",
    "# 几次连续训练\n",
    "num_runs = 10\n",
    "\n",
    "# 训练参数\n",
    "episodes_per_run = 1000\n",
    "eval_interval    = 100\n",
    "eval_games       = 500\n",
    "\n",
    "# 用来累积所有 runs 的结果\n",
    "all_loss_ep = []\n",
    "all_eps     = []\n",
    "all_wr      = []\n",
    "\n",
    "for run in range(num_runs):\n",
    "    print(f\"=== Run {run+1}/{num_runs} ===\")\n",
    "    \n",
    "    # 如果想每次都从头训练（独立实验），可以在这里重新初始化 model/target\n",
    "    # model = DQN(env.observation_space.shape, env.action_space.n).to(device)\n",
    "    # target = DQN(env.observation_space.shape, env.action_space.n).to(device)\n",
    "    # target.load_state_dict(model.state_dict())\n",
    "    \n",
    "    loss_ep, eps, wr = train_dqn(\n",
    "        env, model, target,\n",
    "        episodes=episodes_per_run,\n",
    "        eval_interval=eval_interval,\n",
    "        eval_games=eval_games\n",
    "    )\n",
    "    \n",
    "    # 拼接 loss（直接 extend）\n",
    "    all_loss_ep.extend(loss_ep)\n",
    "    \n",
    "    # eps 是 [100,200,…,5000]，要把第 run 次的 x 轴往后偏移\n",
    "    shift = run * episodes_per_run\n",
    "    all_eps.extend([e + shift for e in eps])\n",
    "    \n",
    "    # win rate 也直接 extend\n",
    "    all_wr.extend(wr)\n",
    "\n",
    "print(\"所有 runs 完成，开始画图…\")\n",
    "\n",
    "# —— 画合并后的 loss 曲线 —— #\n",
    "plt.figure(figsize=(8, 4))\n",
    "plt.plot(range(1, len(all_loss_ep) + 1), all_loss_ep)\n",
    "plt.xlabel('Episode')\n",
    "plt.ylabel('Avg Loss')\n",
    "plt.title(f'Combined Loss over {num_runs}×{episodes_per_run} Episodes')\n",
    "plt.show()\n",
    "\n",
    "# —— 画合并后的 win rate 曲线 —— #\n",
    "plt.figure(figsize=(8, 4))\n",
    "plt.plot(all_eps, all_wr, marker='o')\n",
    "plt.xlabel('Episode')\n",
    "plt.ylabel('Win Rate')\n",
    "plt.title(f'Combined Win Rate (eval every {eval_interval} eps)')\n",
    "plt.show()"
   ]
  },
  {
   "cell_type": "code",
   "execution_count": 12,
   "metadata": {},
   "outputs": [
    {
     "name": "stderr",
     "output_type": "stream",
     "text": [
      "  0%|          | 0/100 [00:00<?, ?it/s]"
     ]
    },
    {
     "name": "stdout",
     "output_type": "stream",
     "text": [
      "=== Iterate 1, Run 1/10 ===\n"
     ]
    },
    {
     "name": "stderr",
     "output_type": "stream",
     "text": [
      "Training: 100%|██████████| 1000/1000 [15:19<00:00,  1.09it/s]\n"
     ]
    },
    {
     "name": "stdout",
     "output_type": "stream",
     "text": [
      "=== Iterate 1, Run 2/10 ===\n"
     ]
    },
    {
     "name": "stderr",
     "output_type": "stream",
     "text": [
      "Training: 100%|██████████| 1000/1000 [23:09<00:00,  1.39s/it]\n"
     ]
    },
    {
     "name": "stdout",
     "output_type": "stream",
     "text": [
      "=== Iterate 1, Run 3/10 ===\n"
     ]
    },
    {
     "name": "stderr",
     "output_type": "stream",
     "text": [
      "Training: 100%|██████████| 1000/1000 [20:44<00:00,  1.24s/it]\n"
     ]
    },
    {
     "name": "stdout",
     "output_type": "stream",
     "text": [
      "=== Iterate 1, Run 4/10 ===\n"
     ]
    },
    {
     "name": "stderr",
     "output_type": "stream",
     "text": [
      "Training: 100%|██████████| 1000/1000 [08:47<00:00,  1.90it/s]\n"
     ]
    },
    {
     "name": "stdout",
     "output_type": "stream",
     "text": [
      "=== Iterate 1, Run 5/10 ===\n"
     ]
    },
    {
     "name": "stderr",
     "output_type": "stream",
     "text": [
      "Training: 100%|██████████| 1000/1000 [08:58<00:00,  1.86it/s]\n"
     ]
    },
    {
     "name": "stdout",
     "output_type": "stream",
     "text": [
      "=== Iterate 1, Run 6/10 ===\n"
     ]
    },
    {
     "name": "stderr",
     "output_type": "stream",
     "text": [
      "Training: 100%|██████████| 1000/1000 [08:23<00:00,  1.99it/s]\n"
     ]
    },
    {
     "name": "stdout",
     "output_type": "stream",
     "text": [
      "=== Iterate 1, Run 7/10 ===\n"
     ]
    },
    {
     "name": "stderr",
     "output_type": "stream",
     "text": [
      "Training: 100%|██████████| 1000/1000 [07:20<00:00,  2.27it/s]\n"
     ]
    },
    {
     "name": "stdout",
     "output_type": "stream",
     "text": [
      "=== Iterate 1, Run 8/10 ===\n"
     ]
    },
    {
     "name": "stderr",
     "output_type": "stream",
     "text": [
      "Training: 100%|██████████| 1000/1000 [07:29<00:00,  2.22it/s]\n"
     ]
    },
    {
     "name": "stdout",
     "output_type": "stream",
     "text": [
      "=== Iterate 1, Run 9/10 ===\n"
     ]
    },
    {
     "name": "stderr",
     "output_type": "stream",
     "text": [
      "Training: 100%|██████████| 1000/1000 [07:21<00:00,  2.27it/s]\n"
     ]
    },
    {
     "name": "stdout",
     "output_type": "stream",
     "text": [
      "=== Iterate 1, Run 10/10 ===\n"
     ]
    },
    {
     "name": "stderr",
     "output_type": "stream",
     "text": [
      "Training: 100%|██████████| 1000/1000 [07:12<00:00,  2.31it/s]\n",
      "  1%|          | 1/100 [1:54:46<189:22:48, 6886.55s/it]"
     ]
    },
    {
     "name": "stdout",
     "output_type": "stream",
     "text": [
      "=== Iterate 2, Run 1/10 ===\n"
     ]
    },
    {
     "name": "stderr",
     "output_type": "stream",
     "text": [
      "Training: 100%|██████████| 1000/1000 [13:06<00:00,  1.27it/s]\n"
     ]
    },
    {
     "name": "stdout",
     "output_type": "stream",
     "text": [
      "=== Iterate 2, Run 2/10 ===\n"
     ]
    },
    {
     "name": "stderr",
     "output_type": "stream",
     "text": [
      "Training: 100%|██████████| 1000/1000 [18:52<00:00,  1.13s/it]\n"
     ]
    },
    {
     "name": "stdout",
     "output_type": "stream",
     "text": [
      "=== Iterate 2, Run 3/10 ===\n"
     ]
    },
    {
     "name": "stderr",
     "output_type": "stream",
     "text": [
      "Training: 100%|██████████| 1000/1000 [28:20<00:00,  1.70s/it]\n"
     ]
    },
    {
     "name": "stdout",
     "output_type": "stream",
     "text": [
      "=== Iterate 2, Run 4/10 ===\n"
     ]
    },
    {
     "name": "stderr",
     "output_type": "stream",
     "text": [
      "Training: 100%|██████████| 1000/1000 [17:13<00:00,  1.03s/it]\n"
     ]
    },
    {
     "name": "stdout",
     "output_type": "stream",
     "text": [
      "=== Iterate 2, Run 5/10 ===\n"
     ]
    },
    {
     "name": "stderr",
     "output_type": "stream",
     "text": [
      "Training: 100%|██████████| 1000/1000 [09:51<00:00,  1.69it/s]\n"
     ]
    },
    {
     "name": "stdout",
     "output_type": "stream",
     "text": [
      "=== Iterate 2, Run 6/10 ===\n"
     ]
    },
    {
     "name": "stderr",
     "output_type": "stream",
     "text": [
      "Training: 100%|██████████| 1000/1000 [08:31<00:00,  1.95it/s]\n"
     ]
    },
    {
     "name": "stdout",
     "output_type": "stream",
     "text": [
      "=== Iterate 2, Run 7/10 ===\n"
     ]
    },
    {
     "name": "stderr",
     "output_type": "stream",
     "text": [
      "Training: 100%|██████████| 1000/1000 [08:53<00:00,  1.87it/s]\n"
     ]
    },
    {
     "name": "stdout",
     "output_type": "stream",
     "text": [
      "=== Iterate 2, Run 8/10 ===\n"
     ]
    },
    {
     "name": "stderr",
     "output_type": "stream",
     "text": [
      "Training: 100%|██████████| 1000/1000 [07:40<00:00,  2.17it/s]\n"
     ]
    },
    {
     "name": "stdout",
     "output_type": "stream",
     "text": [
      "=== Iterate 2, Run 9/10 ===\n"
     ]
    },
    {
     "name": "stderr",
     "output_type": "stream",
     "text": [
      "Training: 100%|██████████| 1000/1000 [07:25<00:00,  2.25it/s]\n"
     ]
    },
    {
     "name": "stdout",
     "output_type": "stream",
     "text": [
      "=== Iterate 2, Run 10/10 ===\n"
     ]
    },
    {
     "name": "stderr",
     "output_type": "stream",
     "text": [
      "Training: 100%|██████████| 1000/1000 [07:07<00:00,  2.34it/s]\n",
      "  2%|▏         | 2/100 [4:01:49<199:15:50, 7319.90s/it]"
     ]
    },
    {
     "name": "stdout",
     "output_type": "stream",
     "text": [
      "=== Iterate 3, Run 1/10 ===\n"
     ]
    },
    {
     "name": "stderr",
     "output_type": "stream",
     "text": [
      "Training: 100%|██████████| 1000/1000 [13:05<00:00,  1.27it/s]\n"
     ]
    },
    {
     "name": "stdout",
     "output_type": "stream",
     "text": [
      "=== Iterate 3, Run 2/10 ===\n"
     ]
    },
    {
     "name": "stderr",
     "output_type": "stream",
     "text": [
      "Training: 100%|██████████| 1000/1000 [15:20<00:00,  1.09it/s]\n"
     ]
    },
    {
     "name": "stdout",
     "output_type": "stream",
     "text": [
      "=== Iterate 3, Run 3/10 ===\n"
     ]
    },
    {
     "name": "stderr",
     "output_type": "stream",
     "text": [
      "Training: 100%|██████████| 1000/1000 [25:27<00:00,  1.53s/it]\n"
     ]
    },
    {
     "name": "stdout",
     "output_type": "stream",
     "text": [
      "=== Iterate 3, Run 4/10 ===\n"
     ]
    },
    {
     "name": "stderr",
     "output_type": "stream",
     "text": [
      "Training: 100%|██████████| 1000/1000 [21:09<00:00,  1.27s/it]\n"
     ]
    },
    {
     "name": "stdout",
     "output_type": "stream",
     "text": [
      "=== Iterate 3, Run 5/10 ===\n"
     ]
    },
    {
     "name": "stderr",
     "output_type": "stream",
     "text": [
      "Training: 100%|██████████| 1000/1000 [09:37<00:00,  1.73it/s]\n"
     ]
    },
    {
     "name": "stdout",
     "output_type": "stream",
     "text": [
      "=== Iterate 3, Run 6/10 ===\n"
     ]
    },
    {
     "name": "stderr",
     "output_type": "stream",
     "text": [
      "Training: 100%|██████████| 1000/1000 [09:23<00:00,  1.78it/s]\n"
     ]
    },
    {
     "name": "stdout",
     "output_type": "stream",
     "text": [
      "=== Iterate 3, Run 7/10 ===\n"
     ]
    },
    {
     "name": "stderr",
     "output_type": "stream",
     "text": [
      "Training: 100%|██████████| 1000/1000 [08:48<00:00,  1.89it/s]\n"
     ]
    },
    {
     "name": "stdout",
     "output_type": "stream",
     "text": [
      "=== Iterate 3, Run 8/10 ===\n"
     ]
    },
    {
     "name": "stderr",
     "output_type": "stream",
     "text": [
      "Training: 100%|██████████| 1000/1000 [08:07<00:00,  2.05it/s]\n"
     ]
    },
    {
     "name": "stdout",
     "output_type": "stream",
     "text": [
      "=== Iterate 3, Run 9/10 ===\n"
     ]
    },
    {
     "name": "stderr",
     "output_type": "stream",
     "text": [
      "Training: 100%|██████████| 1000/1000 [07:36<00:00,  2.19it/s]\n"
     ]
    },
    {
     "name": "stdout",
     "output_type": "stream",
     "text": [
      "=== Iterate 3, Run 10/10 ===\n"
     ]
    },
    {
     "name": "stderr",
     "output_type": "stream",
     "text": [
      "Training: 100%|██████████| 1000/1000 [07:21<00:00,  2.26it/s]\n",
      "  3%|▎         | 3/100 [6:07:48<200:10:06, 7428.94s/it]"
     ]
    },
    {
     "name": "stdout",
     "output_type": "stream",
     "text": [
      "=== Iterate 4, Run 1/10 ===\n"
     ]
    },
    {
     "name": "stderr",
     "output_type": "stream",
     "text": [
      "Training: 100%|██████████| 1000/1000 [14:44<00:00,  1.13it/s]\n"
     ]
    },
    {
     "name": "stdout",
     "output_type": "stream",
     "text": [
      "=== Iterate 4, Run 2/10 ===\n"
     ]
    },
    {
     "name": "stderr",
     "output_type": "stream",
     "text": [
      "Training: 100%|██████████| 1000/1000 [19:55<00:00,  1.20s/it]\n"
     ]
    },
    {
     "name": "stdout",
     "output_type": "stream",
     "text": [
      "=== Iterate 4, Run 3/10 ===\n"
     ]
    },
    {
     "name": "stderr",
     "output_type": "stream",
     "text": [
      "Training: 100%|██████████| 1000/1000 [30:55<00:00,  1.86s/it]\n"
     ]
    },
    {
     "name": "stdout",
     "output_type": "stream",
     "text": [
      "=== Iterate 4, Run 4/10 ===\n"
     ]
    },
    {
     "name": "stderr",
     "output_type": "stream",
     "text": [
      "Training: 100%|██████████| 1000/1000 [20:36<00:00,  1.24s/it]\n"
     ]
    },
    {
     "name": "stdout",
     "output_type": "stream",
     "text": [
      "=== Iterate 4, Run 5/10 ===\n"
     ]
    },
    {
     "name": "stderr",
     "output_type": "stream",
     "text": [
      "Training: 100%|██████████| 1000/1000 [09:23<00:00,  1.78it/s]\n"
     ]
    },
    {
     "name": "stdout",
     "output_type": "stream",
     "text": [
      "=== Iterate 4, Run 6/10 ===\n"
     ]
    },
    {
     "name": "stderr",
     "output_type": "stream",
     "text": [
      "Training: 100%|██████████| 1000/1000 [09:07<00:00,  1.82it/s]\n"
     ]
    },
    {
     "name": "stdout",
     "output_type": "stream",
     "text": [
      "=== Iterate 4, Run 7/10 ===\n"
     ]
    },
    {
     "name": "stderr",
     "output_type": "stream",
     "text": [
      "Training: 100%|██████████| 1000/1000 [08:05<00:00,  2.06it/s]\n"
     ]
    },
    {
     "name": "stdout",
     "output_type": "stream",
     "text": [
      "=== Iterate 4, Run 8/10 ===\n"
     ]
    },
    {
     "name": "stderr",
     "output_type": "stream",
     "text": [
      "Training: 100%|██████████| 1000/1000 [07:41<00:00,  2.17it/s]\n"
     ]
    },
    {
     "name": "stdout",
     "output_type": "stream",
     "text": [
      "=== Iterate 4, Run 9/10 ===\n"
     ]
    },
    {
     "name": "stderr",
     "output_type": "stream",
     "text": [
      "Training: 100%|██████████| 1000/1000 [07:14<00:00,  2.30it/s]\n"
     ]
    },
    {
     "name": "stdout",
     "output_type": "stream",
     "text": [
      "=== Iterate 4, Run 10/10 ===\n"
     ]
    },
    {
     "name": "stderr",
     "output_type": "stream",
     "text": [
      "Training: 100%|██████████| 1000/1000 [07:39<00:00,  2.18it/s]\n",
      "  4%|▍         | 4/100 [8:23:12<205:25:20, 7703.34s/it]"
     ]
    },
    {
     "name": "stdout",
     "output_type": "stream",
     "text": [
      "=== Iterate 5, Run 1/10 ===\n"
     ]
    },
    {
     "name": "stderr",
     "output_type": "stream",
     "text": [
      "Training: 100%|██████████| 1000/1000 [14:17<00:00,  1.17it/s]\n"
     ]
    },
    {
     "name": "stdout",
     "output_type": "stream",
     "text": [
      "=== Iterate 5, Run 2/10 ===\n"
     ]
    },
    {
     "name": "stderr",
     "output_type": "stream",
     "text": [
      "Training: 100%|██████████| 1000/1000 [23:33<00:00,  1.41s/it]\n"
     ]
    },
    {
     "name": "stdout",
     "output_type": "stream",
     "text": [
      "=== Iterate 5, Run 3/10 ===\n"
     ]
    },
    {
     "name": "stderr",
     "output_type": "stream",
     "text": [
      "Training: 100%|██████████| 1000/1000 [19:55<00:00,  1.20s/it]\n"
     ]
    },
    {
     "name": "stdout",
     "output_type": "stream",
     "text": [
      "=== Iterate 5, Run 4/10 ===\n"
     ]
    },
    {
     "name": "stderr",
     "output_type": "stream",
     "text": [
      "Training: 100%|██████████| 1000/1000 [09:27<00:00,  1.76it/s]\n"
     ]
    },
    {
     "name": "stdout",
     "output_type": "stream",
     "text": [
      "=== Iterate 5, Run 5/10 ===\n"
     ]
    },
    {
     "name": "stderr",
     "output_type": "stream",
     "text": [
      "Training: 100%|██████████| 1000/1000 [09:05<00:00,  1.83it/s]\n"
     ]
    },
    {
     "name": "stdout",
     "output_type": "stream",
     "text": [
      "=== Iterate 5, Run 6/10 ===\n"
     ]
    },
    {
     "name": "stderr",
     "output_type": "stream",
     "text": [
      "Training: 100%|██████████| 1000/1000 [08:10<00:00,  2.04it/s]\n"
     ]
    },
    {
     "name": "stdout",
     "output_type": "stream",
     "text": [
      "=== Iterate 5, Run 7/10 ===\n"
     ]
    },
    {
     "name": "stderr",
     "output_type": "stream",
     "text": [
      "Training: 100%|██████████| 1000/1000 [07:39<00:00,  2.18it/s]\n"
     ]
    },
    {
     "name": "stdout",
     "output_type": "stream",
     "text": [
      "=== Iterate 5, Run 8/10 ===\n"
     ]
    },
    {
     "name": "stderr",
     "output_type": "stream",
     "text": [
      "Training: 100%|██████████| 1000/1000 [07:27<00:00,  2.24it/s]\n"
     ]
    },
    {
     "name": "stdout",
     "output_type": "stream",
     "text": [
      "=== Iterate 5, Run 9/10 ===\n"
     ]
    },
    {
     "name": "stderr",
     "output_type": "stream",
     "text": [
      "Training: 100%|██████████| 1000/1000 [07:31<00:00,  2.22it/s]\n"
     ]
    },
    {
     "name": "stdout",
     "output_type": "stream",
     "text": [
      "=== Iterate 5, Run 10/10 ===\n"
     ]
    },
    {
     "name": "stderr",
     "output_type": "stream",
     "text": [
      "Training: 100%|██████████| 1000/1000 [07:35<00:00,  2.20it/s]\n",
      "  5%|▌         | 5/100 [10:17:55<195:28:42, 7407.60s/it]"
     ]
    },
    {
     "name": "stdout",
     "output_type": "stream",
     "text": [
      "=== Iterate 6, Run 1/10 ===\n"
     ]
    },
    {
     "name": "stderr",
     "output_type": "stream",
     "text": [
      "Training: 100%|██████████| 1000/1000 [14:03<00:00,  1.19it/s]\n"
     ]
    },
    {
     "name": "stdout",
     "output_type": "stream",
     "text": [
      "=== Iterate 6, Run 2/10 ===\n"
     ]
    },
    {
     "name": "stderr",
     "output_type": "stream",
     "text": []
    }
   ],
   "source": [
    "import json\n",
    "from tqdm import tqdm\n",
    "\n",
    "iterate_num = 100\n",
    "all_runs_results = []  # 用來存每次 iterate 的累積結果\n",
    "\n",
    "for i in tqdm(range(iterate_num)):\n",
    "    env = SuperTicTacToeEnv()\n",
    "    model = DQN(env.observation_space.shape, env.action_space.n).to(device)\n",
    "    target = DQN(env.observation_space.shape, env.action_space.n).to(device)\n",
    "    target.load_state_dict(model.state_dict())\n",
    "\n",
    "    num_runs = 10\n",
    "    episodes_per_run = 1000\n",
    "    eval_interval = 100\n",
    "    eval_games = 500\n",
    "\n",
    "    all_loss_ep = []\n",
    "    all_eps = []\n",
    "    all_wr = []\n",
    "\n",
    "    for run in range(num_runs):\n",
    "        print(f\"=== Iterate {i+1}, Run {run+1}/{num_runs} ===\")\n",
    "\n",
    "        loss_ep, eps, wr = train_dqn(\n",
    "            env, model, target,\n",
    "            episodes=episodes_per_run,\n",
    "            eval_interval=eval_interval,\n",
    "            eval_games=eval_games\n",
    "        )\n",
    "\n",
    "        # 拼接累積\n",
    "        all_loss_ep.extend(loss_ep)\n",
    "        \n",
    "        # eps 需要偏移，避免重複episode數\n",
    "        shift = run * episodes_per_run\n",
    "        all_eps.extend([e + shift for e in eps])\n",
    "        \n",
    "        all_wr.extend(wr)\n",
    "\n",
    "    # 把該 iterate 的累積結果存入 all_runs_results\n",
    "    iterate_result = {\n",
    "        \"iterate_index\": i,\n",
    "        \"loss\": all_loss_ep,\n",
    "        \"eps\": all_eps,\n",
    "        \"win_rate\": all_wr\n",
    "    }\n",
    "    all_runs_results.append(iterate_result)\n",
    "    # 最後將所有 iterate 的結果存成 JSON\n",
    "    with open(\"training_results.json\", \"w\") as f:\n",
    "        json.dump(all_runs_results, f)\n",
    "\n"
   ]
  },
  {
   "cell_type": "code",
   "execution_count": 1,
   "metadata": {},
   "outputs": [
    {
     "data": {
      "image/png": "[encoded data removed]",
      "text/plain": [
       "<Figure size 800x400 with 1 Axes>"
      ]
     },
     "metadata": {},
     "output_type": "display_data"
    },
    {
     "data": {
      "image/png": "[encoded data removed]",
      "text/plain": [
       "<Figure size 800x400 with 1 Axes>"
      ]
     },
     "metadata": {},
     "output_type": "display_data"
    }
   ],
   "source": [
    "import json\n",
    "import numpy as np\n",
    "import matplotlib.pyplot as plt\n",
    "\n",
    "# 读取 JSON 文件\n",
    "with open(\"training_results.json\", \"r\") as f:\n",
    "    all_runs_results = json.load(f)\n",
    "\n",
    "# 假设所有 iterate 的 episode 数目相同\n",
    "num_iterates = len(all_runs_results)\n",
    "num_episodes = len(all_runs_results[0]['loss'])\n",
    "\n",
    "# 构造 numpy array 方便计算均值\n",
    "all_loss = np.array([run['loss'] for run in all_runs_results])  # shape: (num_iterates, num_episodes)\n",
    "all_win_rate = np.array([run['win_rate'] for run in all_runs_results])  # shape: (num_iterates, num_episodes)\n",
    "\n",
    "# 计算每个 episode 的均值\n",
    "mean_loss = np.mean(all_loss, axis=0)\n",
    "mean_win_rate = np.mean(all_win_rate, axis=0)\n",
    "\n",
    "# 取出 episode 数组（假设所有 iterate 的 eps 一致）\n",
    "all_eps = all_runs_results[0]['eps']\n",
    "\n",
    "# 画合并后的 loss 曲线\n",
    "plt.figure(figsize=(8, 4))\n",
    "plt.plot(range(1, num_episodes + 1), mean_loss)\n",
    "plt.xlabel('Episode')\n",
    "plt.ylabel('Avg Loss')\n",
    "plt.title(f'Combined Loss over {num_iterates} runs')\n",
    "plt.show()\n",
    "\n",
    "# 画合并后的 win rate 曲线\n",
    "plt.figure(figsize=(8, 4))\n",
    "plt.plot(all_eps, mean_win_rate, marker='o')\n",
    "plt.xlabel('Episode')\n",
    "plt.ylabel('Win Rate')\n",
    "plt.title(f'Combined Win Rate (averaged over {num_iterates} runs)')\n",
    "plt.show()\n"
   ]
  }
 ],
 "metadata": {
  "kernelspec": {
   "display_name": "Python 3",
   "language": "python",
   "name": "python3"
  },
  "language_info": {
   "codemirror_mode": {
    "name": "ipython",
    "version": 3
   },
   "file_extension": ".py",
   "mimetype": "text/x-python",
   "name": "python",
   "nbconvert_exporter": "python",
   "pygments_lexer": "ipython3",
   "version": "3.10.17"
  }
 },
 "nbformat": 4,
 "nbformat_minor": 2
}
